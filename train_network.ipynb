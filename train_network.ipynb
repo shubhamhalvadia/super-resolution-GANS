{
 "cells": [
  {
   "cell_type": "code",
   "execution_count": 1,
   "metadata": {
    "ExecuteTime": {
     "end_time": "2020-03-06T14:36:09.065498Z",
     "start_time": "2020-03-06T14:36:08.039481Z"
    }
   },
   "outputs": [
    {
     "name": "stderr",
     "output_type": "stream",
     "text": [
      "/Users/shubham/Library/Python/3.9/lib/python/site-packages/urllib3/__init__.py:35: NotOpenSSLWarning: urllib3 v2 only supports OpenSSL 1.1.1+, currently the 'ssl' module is compiled with 'LibreSSL 2.8.3'. See: https://github.com/urllib3/urllib3/issues/3020\n",
      "  warnings.warn(\n",
      "/Users/shubham/Library/Python/3.9/lib/python/site-packages/tensorflow_addons/utils/ensure_tf_install.py:53: UserWarning: Tensorflow Addons supports using Python ops for all Tensorflow versions above or equal to 2.6.0 and strictly below 2.9.0 (nightly versions are not supported). \n",
      " The versions of TensorFlow you are currently using is 2.9.0 and is not supported. \n",
      "Some things might work, some things might not.\n",
      "If you were to encounter a bug, do not file an issue.\n",
      "If you want to make sure you're using a tested and supported configuration, either change the TensorFlow version or the TensorFlow Addons's version. \n",
      "You can find the compatibility matrix in TensorFlow Addon's readme:\n",
      "https://github.com/tensorflow/addons\n",
      "  warnings.warn(\n"
     ]
    }
   ],
   "source": [
    "# import utils and basic libraries\n",
    "import os\n",
    "from tqdm.notebook import tqdm\n",
    "import matplotlib.pyplot as plt\n",
    "import numpy as np\n",
    "import tensorflow as tf\n",
    "from utils.preprocessing import gen_sub, bicubic\n",
    "from utils.loss import l1_loss, psnr, ssim\n",
    "from utils.network import Super3D\n",
    "from utils.training import Trainer\n",
    "from skimage import io\n",
    "from zipfile import ZipFile"
   ]
  },
  {
   "cell_type": "code",
   "execution_count": 2,
   "metadata": {
    "ExecuteTime": {
     "end_time": "2020-03-06T14:36:09.689561Z",
     "start_time": "2020-03-06T14:36:09.671857Z"
    }
   },
   "outputs": [],
   "source": [
    "#-------------\n",
    "# General Settings\n",
    "#-------------\n",
    "PATH_DATASET = 'dataset' # pre-processed dataset path\n",
    "name_net = 'Super3D' # name of the network\n",
    "LR_SIZE = 32 # pathces dimension\n",
    "SCALE = 3 # upscale of the proba-v dataset is 3\n",
    "HR_SIZE = LR_SIZE * SCALE # upscale of the dataset is 3\n",
    "OVERLAP = 32 # overlap between pathces\n",
    "CLEAN_PATH_PX = 0.85 # percentage of clean pixels to accept a patch\n",
    "band = 'NIR' # choose the band for the training\n",
    "checkpoint_dir = f'ckpt/{band}_{name_net}_retrain' # weights path\n",
    "log_dir = 'logs' # tensorboard logs path\n",
    "submission_dir = 'submission' # submission dir"
   ]
  },
  {
   "cell_type": "code",
   "execution_count": 3,
   "metadata": {},
   "outputs": [],
   "source": [
    "#-------------\n",
    "# Network Settings\n",
    "#-------------\n",
    "FILTERS = 32 # features map in the network\n",
    "KERNEL_SIZE = 3 # convolutional kernel size dimension (either 3D and 2D)\n",
    "CHANNELS = 9 # number of temporal steps\n",
    "R = 8 # attention compression\n",
    "N = 12 # number of residual feature attention blocks\n",
    "lr = 1e-4 # learning rate (Nadam optimizer)\n",
    "BATCH_SIZE = 14 # batch size\n",
    "EPOCHS_N = 50 # number of epochs"
   ]
  },
  {
   "cell_type": "code",
   "execution_count": 4,
   "metadata": {},
   "outputs": [],
   "source": [
    "# create logs folder\n",
    "if not os.path.exists(log_dir):\n",
    "    os.mkdir(log_dir)"
   ]
  },
  {
   "cell_type": "markdown",
   "metadata": {},
   "source": [
    "<a id=\"loading\"></a>\n",
    "# 1.0 Dataset loading"
   ]
  },
  {
   "cell_type": "code",
   "execution_count": 6,
   "metadata": {},
   "outputs": [],
   "source": [
    "# load training dataset\n",
    "X_train = np.load(os.path.join(PATH_DATASET, f'X_{band}_train.npy'))\n",
    "y_train = np.load(os.path.join(PATH_DATASET, f'y_{band}_train.npy'))\n",
    "y_train_mask = np.load(os.path.join(PATH_DATASET, f'y_{band}_train_masks.npy'))"
   ]
  },
  {
   "cell_type": "code",
   "execution_count": 7,
   "metadata": {},
   "outputs": [],
   "source": [
    "# load validation dataset\n",
    "X_val = np.load(os.path.join(PATH_DATASET, f'X_{band}_val.npy'))\n",
    "y_val = np.load(os.path.join(PATH_DATASET, f'y_{band}_val.npy'))\n",
    "y_val_mask = np.load(os.path.join(PATH_DATASET, f'y_{band}_val_masks.npy'))"
   ]
  },
  {
   "cell_type": "code",
   "execution_count": 8,
   "metadata": {},
   "outputs": [
    {
     "name": "stdout",
     "output_type": "stream",
     "text": [
      "X_train:  (343, 128, 128, 9)\n",
      "y_train:  (343, 384, 384, 1)\n",
      "y_train_mask:  (343, 384, 384, 1)\n",
      "X_val:  (20, 128, 128, 9)\n",
      "y_val:  (20, 384, 384, 1)\n",
      "y_val_mask:  (20, 384, 384, 1)\n"
     ]
    }
   ],
   "source": [
    "# print loaded dataset info\n",
    "print('X_train: ', X_train.shape)\n",
    "print('y_train: ', y_train.shape)\n",
    "print('y_train_mask: ', y_train_mask.shape)\n",
    "\n",
    "\n",
    "print('X_val: ', X_val.shape)\n",
    "print('y_val: ', y_val.shape)\n",
    "print('y_val_mask: ', y_val_mask.shape)"
   ]
  },
  {
   "cell_type": "markdown",
   "metadata": {},
   "source": [
    "<a id=\"preprocessing\"></a>\n",
    "# 2.0 Dataset Pre-Processing"
   ]
  },
  {
   "cell_type": "markdown",
   "metadata": {},
   "source": [
    "## 2.1 Make patches"
   ]
  },
  {
   "cell_type": "code",
   "execution_count": 9,
   "metadata": {},
   "outputs": [
    {
     "data": {
      "application/vnd.jupyter.widget-view+json": {
       "model_id": "5e00595519094b22a65ad2afd4f8cda4",
       "version_major": 2,
       "version_minor": 0
      },
      "text/plain": [
       "Creating sub images:   0%|          | 0/343 [00:00<?, ?it/s]"
      ]
     },
     "metadata": {},
     "output_type": "display_data"
    },
    {
     "name": "stdout",
     "output_type": "stream",
     "text": [
      "(5488, 32, 32, 9)\n"
     ]
    },
    {
     "data": {
      "application/vnd.jupyter.widget-view+json": {
       "model_id": "ba4b34035a074c6c9c18f68c37e46df0",
       "version_major": 2,
       "version_minor": 0
      },
      "text/plain": [
       "Creating sub images:   0%|          | 0/20 [00:00<?, ?it/s]"
      ]
     },
     "metadata": {},
     "output_type": "display_data"
    },
    {
     "name": "stdout",
     "output_type": "stream",
     "text": [
      "(320, 32, 32, 9)\n"
     ]
    }
   ],
   "source": [
    "# create patches for LR images\n",
    "d = LR_SIZE  # 32x32 patches\n",
    "s = OVERLAP  # overlapping patches\n",
    "# Ex: n = (128-d)/s+1 = 7 -> 49 sub images from each image\n",
    "\n",
    "X_train_patches = gen_sub(X_train,d,s)\n",
    "X_val_patches = gen_sub(X_val,d,s)"
   ]
  },
  {
   "cell_type": "code",
   "execution_count": 10,
   "metadata": {},
   "outputs": [
    {
     "data": {
      "application/vnd.jupyter.widget-view+json": {
       "model_id": "3c9e77b8c05748f0a5ed74cff9f7b0f5",
       "version_major": 2,
       "version_minor": 0
      },
      "text/plain": [
       "Creating sub images:   0%|          | 0/343 [00:00<?, ?it/s]"
      ]
     },
     "metadata": {},
     "output_type": "display_data"
    },
    {
     "name": "stdout",
     "output_type": "stream",
     "text": [
      "(5488, 96, 96, 1)\n"
     ]
    },
    {
     "data": {
      "application/vnd.jupyter.widget-view+json": {
       "model_id": "828386e24f644724aaa5205147ce95a9",
       "version_major": 2,
       "version_minor": 0
      },
      "text/plain": [
       "Creating sub images:   0%|          | 0/343 [00:00<?, ?it/s]"
      ]
     },
     "metadata": {},
     "output_type": "display_data"
    },
    {
     "name": "stdout",
     "output_type": "stream",
     "text": [
      "(5488, 96, 96, 1)\n"
     ]
    },
    {
     "data": {
      "application/vnd.jupyter.widget-view+json": {
       "model_id": "d4605e04480140f397ff0bd03605ff5c",
       "version_major": 2,
       "version_minor": 0
      },
      "text/plain": [
       "Creating sub images:   0%|          | 0/20 [00:00<?, ?it/s]"
      ]
     },
     "metadata": {},
     "output_type": "display_data"
    },
    {
     "name": "stdout",
     "output_type": "stream",
     "text": [
      "(320, 96, 96, 1)\n"
     ]
    },
    {
     "data": {
      "application/vnd.jupyter.widget-view+json": {
       "model_id": "5461e58eb13a48d0832456e03b602b17",
       "version_major": 2,
       "version_minor": 0
      },
      "text/plain": [
       "Creating sub images:   0%|          | 0/20 [00:00<?, ?it/s]"
      ]
     },
     "metadata": {},
     "output_type": "display_data"
    },
    {
     "name": "stdout",
     "output_type": "stream",
     "text": [
      "(320, 96, 96, 1)\n"
     ]
    }
   ],
   "source": [
    "# create patches for HR images and masks\n",
    "d = HR_SIZE  # 96x96 patches\n",
    "s = OVERLAP * SCALE  # overlapping patches\n",
    "# Ex: n = (384-d)/s+1 = 7 -> 49 sub images from each image\n",
    "\n",
    "y_train_patches = gen_sub(y_train,d,s)\n",
    "y_train_mask_patches = gen_sub(y_train_mask,d,s)\n",
    "\n",
    "\n",
    "y_val_patches = gen_sub(y_val,d,s)\n",
    "y_val_mask_patches = gen_sub(y_val_mask,d,s)"
   ]
  },
  {
   "cell_type": "code",
   "execution_count": 11,
   "metadata": {},
   "outputs": [
    {
     "data": {
      "text/plain": [
       "<matplotlib.image.AxesImage at 0x173e27e80>"
      ]
     },
     "execution_count": 11,
     "metadata": {},
     "output_type": "execute_result"
    },
    {
     "data": {
      "image/png": "[encoded data removed]",
      "text/plain": [
       "<Figure size 1000x1000 with 2 Axes>"
      ]
     },
     "metadata": {},
     "output_type": "display_data"
    }
   ],
   "source": [
    "# print first patch and check if LR is in accordance with HR\n",
    "fig, ax = plt.subplots(1,2, figsize=(10,10))\n",
    "ax[0].imshow(X_train_patches[0,:,:,0], cmap = 'gray')\n",
    "ax[1].imshow(y_train_patches[0,:,:,0], cmap = 'gray')"
   ]
  },
  {
   "cell_type": "code",
   "execution_count": 12,
   "metadata": {},
   "outputs": [],
   "source": [
    "# free up memory\n",
    "del X_train, y_train, y_train_mask\n",
    "\n",
    "del X_val, y_val, y_val_mask"
   ]
  },
  {
   "cell_type": "markdown",
   "metadata": {},
   "source": [
    "## 2.2 Clarity patches check"
   ]
  },
  {
   "cell_type": "code",
   "execution_count": 13,
   "metadata": {},
   "outputs": [],
   "source": [
    "# find patches indices with a lower percentage of clean pixels in train array\n",
    "patches_to_remove_train = [i for i,m in enumerate(y_train_mask_patches) if np.count_nonzero(m)/(HR_SIZE*HR_SIZE) < CLEAN_PATH_PX]"
   ]
  },
  {
   "cell_type": "code",
   "execution_count": 14,
   "metadata": {},
   "outputs": [],
   "source": [
    "# find patches indices with a lower percentage of clean pixels in validation array\n",
    "patches_to_remove_val = [i for i,m in enumerate(y_val_mask_patches) if np.count_nonzero(m)/(HR_SIZE*HR_SIZE) < CLEAN_PATH_PX]"
   ]
  },
  {
   "cell_type": "code",
   "execution_count": 15,
   "metadata": {},
   "outputs": [
    {
     "name": "stdout",
     "output_type": "stream",
     "text": [
      "588\n",
      "32\n"
     ]
    }
   ],
   "source": [
    "# print number of patches to be removed\n",
    "print(len(patches_to_remove_train))\n",
    "print(len(patches_to_remove_val))"
   ]
  },
  {
   "cell_type": "code",
   "execution_count": 16,
   "metadata": {},
   "outputs": [],
   "source": [
    "# remove patches not clean\n",
    "X_train_patches = np.delete(X_train_patches,patches_to_remove_train,axis=0)\n",
    "y_train_patches =  np.delete(y_train_patches,patches_to_remove_train,axis=0)\n",
    "y_train_mask_patches =  np.delete(y_train_mask_patches,patches_to_remove_train,axis=0)\n",
    "\n",
    "X_val_patches = np.delete(X_val_patches,patches_to_remove_val,axis=0)\n",
    "y_val_patches =  np.delete(y_val_patches,patches_to_remove_val,axis=0)\n",
    "y_val_mask_patches =  np.delete(y_val_mask_patches,patches_to_remove_val,axis=0)"
   ]
  },
  {
   "cell_type": "markdown",
   "metadata": {},
   "source": [
    "<a id=\"network\"></a>\n",
    "# 3.0 Build the network"
   ]
  },
  {
   "cell_type": "code",
   "execution_count": 17,
   "metadata": {
    "ExecuteTime": {
     "end_time": "2020-03-06T14:18:41.261577Z",
     "start_time": "2020-03-06T14:18:38.172021Z"
    }
   },
   "outputs": [],
   "source": [
    "# build Super3D network\n",
    "Super3D_network = Super3D(scale=SCALE, filters=FILTERS, \n",
    "                 kernel_size=KERNEL_SIZE, channels=CHANNELS, r=R, N=N)"
   ]
  },
  {
   "cell_type": "code",
   "execution_count": 18,
   "metadata": {
    "ExecuteTime": {
     "end_time": "2020-03-06T14:18:41.365506Z",
     "start_time": "2020-03-06T14:18:41.297575Z"
    }
   },
   "outputs": [
    {
     "name": "stdout",
     "output_type": "stream",
     "text": [
      "Model: \"RAMS\"\n",
      "________________________________________________________________________________________________________________________\n",
      " Layer (type)                          Output Shape               Param #       Connected to                            \n",
      "========================================================================================================================\n",
      " input_1 (InputLayer)                  [(None, None, None, 9)]    0             []                                      \n",
      "                                                                                                                        \n",
      " lambda (Lambda)                       (None, None, None, 9)      0             ['input_1[0][0]']                       \n",
      "                                                                                                                        \n",
      " lambda_1 (Lambda)                     (None, None, None, 9, 1)   0             ['lambda[0][0]']                        \n",
      "                                                                                                                        \n",
      " lambda_2 (Lambda)                     (None, None, None, 9, 1)   0             ['lambda_1[0][0]']                      \n",
      "                                                                                                                        \n",
      " weight_normalization (WeightNormaliza  (None, None, None, 9, 32)  929          ['lambda_2[0][0]']                      \n",
      " tion)                                                                                                                  \n",
      "                                                                                                                        \n",
      " weight_normalization_1 (WeightNormali  (None, None, None, 9, 32)  27713        ['weight_normalization[0][0]']          \n",
      " zation)                                                                                                                \n",
      "                                                                                                                        \n",
      " re_lu (ReLU)                          (None, None, None, 9, 32)  0             ['weight_normalization_1[0][0]']        \n",
      "                                                                                                                        \n",
      " weight_normalization_2 (WeightNormali  (None, None, None, 9, 32)  27713        ['re_lu[0][0]']                         \n",
      " zation)                                                                                                                \n",
      "                                                                                                                        \n",
      " tf.__operators__.add (TFOpLambda)     (None, None, None, 9, 32)  0             ['weight_normalization_2[0][0]',        \n",
      "                                                                                 'weight_normalization[0][0]']          \n",
      "                                                                                                                        \n",
      " weight_normalization_3 (WeightNormali  (None, None, None, 9, 32)  27713        ['tf.__operators__.add[0][0]']          \n",
      " zation)                                                                                                                \n",
      "                                                                                                                        \n",
      " re_lu_1 (ReLU)                        (None, None, None, 9, 32)  0             ['weight_normalization_3[0][0]']        \n",
      "                                                                                                                        \n",
      " weight_normalization_4 (WeightNormali  (None, None, None, 9, 32)  27713        ['re_lu_1[0][0]']                       \n",
      " zation)                                                                                                                \n",
      "                                                                                                                        \n",
      " tf.__operators__.add_1 (TFOpLambda)   (None, None, None, 9, 32)  0             ['weight_normalization_4[0][0]',        \n",
      "                                                                                 'tf.__operators__.add[0][0]']          \n",
      "                                                                                                                        \n",
      " weight_normalization_5 (WeightNormali  (None, None, None, 9, 32)  27713        ['tf.__operators__.add_1[0][0]']        \n",
      " zation)                                                                                                                \n",
      "                                                                                                                        \n",
      " re_lu_2 (ReLU)                        (None, None, None, 9, 32)  0             ['weight_normalization_5[0][0]']        \n",
      "                                                                                                                        \n",
      " weight_normalization_6 (WeightNormali  (None, None, None, 9, 32)  27713        ['re_lu_2[0][0]']                       \n",
      " zation)                                                                                                                \n",
      "                                                                                                                        \n",
      " tf.__operators__.add_2 (TFOpLambda)   (None, None, None, 9, 32)  0             ['weight_normalization_6[0][0]',        \n",
      "                                                                                 'tf.__operators__.add_1[0][0]']        \n",
      "                                                                                                                        \n",
      " weight_normalization_7 (WeightNormali  (None, None, None, 9, 32)  27713        ['tf.__operators__.add_2[0][0]']        \n",
      " zation)                                                                                                                \n",
      "                                                                                                                        \n",
      " re_lu_3 (ReLU)                        (None, None, None, 9, 32)  0             ['weight_normalization_7[0][0]']        \n",
      "                                                                                                                        \n",
      " weight_normalization_8 (WeightNormali  (None, None, None, 9, 32)  27713        ['re_lu_3[0][0]']                       \n",
      " zation)                                                                                                                \n",
      "                                                                                                                        \n",
      " tf.__operators__.add_3 (TFOpLambda)   (None, None, None, 9, 32)  0             ['weight_normalization_8[0][0]',        \n",
      "                                                                                 'tf.__operators__.add_2[0][0]']        \n",
      "                                                                                                                        \n",
      " weight_normalization_9 (WeightNormali  (None, None, None, 9, 32)  27713        ['tf.__operators__.add_3[0][0]']        \n",
      " zation)                                                                                                                \n",
      "                                                                                                                        \n",
      " re_lu_4 (ReLU)                        (None, None, None, 9, 32)  0             ['weight_normalization_9[0][0]']        \n",
      "                                                                                                                        \n",
      " weight_normalization_10 (WeightNormal  (None, None, None, 9, 32)  27713        ['re_lu_4[0][0]']                       \n",
      " ization)                                                                                                               \n",
      "                                                                                                                        \n",
      " tf.__operators__.add_4 (TFOpLambda)   (None, None, None, 9, 32)  0             ['weight_normalization_10[0][0]',       \n",
      "                                                                                 'tf.__operators__.add_3[0][0]']        \n",
      "                                                                                                                        \n",
      " weight_normalization_11 (WeightNormal  (None, None, None, 9, 32)  27713        ['tf.__operators__.add_4[0][0]']        \n",
      " ization)                                                                                                               \n",
      "                                                                                                                        \n",
      " re_lu_5 (ReLU)                        (None, None, None, 9, 32)  0             ['weight_normalization_11[0][0]']       \n",
      "                                                                                                                        \n",
      " weight_normalization_12 (WeightNormal  (None, None, None, 9, 32)  27713        ['re_lu_5[0][0]']                       \n",
      " ization)                                                                                                               \n",
      "                                                                                                                        \n",
      " tf.__operators__.add_5 (TFOpLambda)   (None, None, None, 9, 32)  0             ['weight_normalization_12[0][0]',       \n",
      "                                                                                 'tf.__operators__.add_4[0][0]']        \n",
      "                                                                                                                        \n",
      " weight_normalization_13 (WeightNormal  (None, None, None, 9, 32)  27713        ['tf.__operators__.add_5[0][0]']        \n",
      " ization)                                                                                                               \n",
      "                                                                                                                        \n",
      " re_lu_6 (ReLU)                        (None, None, None, 9, 32)  0             ['weight_normalization_13[0][0]']       \n",
      "                                                                                                                        \n",
      " weight_normalization_14 (WeightNormal  (None, None, None, 9, 32)  27713        ['re_lu_6[0][0]']                       \n",
      " ization)                                                                                                               \n",
      "                                                                                                                        \n",
      " tf.__operators__.add_6 (TFOpLambda)   (None, None, None, 9, 32)  0             ['weight_normalization_14[0][0]',       \n",
      "                                                                                 'tf.__operators__.add_5[0][0]']        \n",
      "                                                                                                                        \n",
      " weight_normalization_15 (WeightNormal  (None, None, None, 9, 32)  27713        ['tf.__operators__.add_6[0][0]']        \n",
      " ization)                                                                                                               \n",
      "                                                                                                                        \n",
      " re_lu_7 (ReLU)                        (None, None, None, 9, 32)  0             ['weight_normalization_15[0][0]']       \n",
      "                                                                                                                        \n",
      " weight_normalization_16 (WeightNormal  (None, None, None, 9, 32)  27713        ['re_lu_7[0][0]']                       \n",
      " ization)                                                                                                               \n",
      "                                                                                                                        \n",
      " tf.__operators__.add_7 (TFOpLambda)   (None, None, None, 9, 32)  0             ['weight_normalization_16[0][0]',       \n",
      "                                                                                 'tf.__operators__.add_6[0][0]']        \n",
      "                                                                                                                        \n",
      " weight_normalization_17 (WeightNormal  (None, None, None, 9, 32)  27713        ['tf.__operators__.add_7[0][0]']        \n",
      " ization)                                                                                                               \n",
      "                                                                                                                        \n",
      " re_lu_8 (ReLU)                        (None, None, None, 9, 32)  0             ['weight_normalization_17[0][0]']       \n",
      "                                                                                                                        \n",
      " weight_normalization_18 (WeightNormal  (None, None, None, 9, 32)  27713        ['re_lu_8[0][0]']                       \n",
      " ization)                                                                                                               \n",
      "                                                                                                                        \n",
      " tf.__operators__.add_8 (TFOpLambda)   (None, None, None, 9, 32)  0             ['weight_normalization_18[0][0]',       \n",
      "                                                                                 'tf.__operators__.add_7[0][0]']        \n",
      "                                                                                                                        \n",
      " weight_normalization_19 (WeightNormal  (None, None, None, 9, 32)  27713        ['tf.__operators__.add_8[0][0]']        \n",
      " ization)                                                                                                               \n",
      "                                                                                                                        \n",
      " re_lu_9 (ReLU)                        (None, None, None, 9, 32)  0             ['weight_normalization_19[0][0]']       \n",
      "                                                                                                                        \n",
      " weight_normalization_20 (WeightNormal  (None, None, None, 9, 32)  27713        ['re_lu_9[0][0]']                       \n",
      " ization)                                                                                                               \n",
      "                                                                                                                        \n",
      " tf.__operators__.add_9 (TFOpLambda)   (None, None, None, 9, 32)  0             ['weight_normalization_20[0][0]',       \n",
      "                                                                                 'tf.__operators__.add_8[0][0]']        \n",
      "                                                                                                                        \n",
      " weight_normalization_21 (WeightNormal  (None, None, None, 9, 32)  27713        ['tf.__operators__.add_9[0][0]']        \n",
      " ization)                                                                                                               \n",
      "                                                                                                                        \n",
      " re_lu_10 (ReLU)                       (None, None, None, 9, 32)  0             ['weight_normalization_21[0][0]']       \n",
      "                                                                                                                        \n",
      " weight_normalization_22 (WeightNormal  (None, None, None, 9, 32)  27713        ['re_lu_10[0][0]']                      \n",
      " ization)                                                                                                               \n",
      "                                                                                                                        \n",
      " tf.__operators__.add_10 (TFOpLambda)  (None, None, None, 9, 32)  0             ['weight_normalization_22[0][0]',       \n",
      "                                                                                 'tf.__operators__.add_9[0][0]']        \n",
      "                                                                                                                        \n",
      " weight_normalization_23 (WeightNormal  (None, None, None, 9, 32)  27713        ['tf.__operators__.add_10[0][0]']       \n",
      " ization)                                                                                                               \n",
      "                                                                                                                        \n",
      " re_lu_11 (ReLU)                       (None, None, None, 9, 32)  0             ['weight_normalization_23[0][0]']       \n",
      "                                                                                                                        \n",
      " weight_normalization_24 (WeightNormal  (None, None, None, 9, 32)  27713        ['re_lu_11[0][0]']                      \n",
      " ization)                                                                                                               \n",
      "                                                                                                                        \n",
      " tf.__operators__.add_11 (TFOpLambda)  (None, None, None, 9, 32)  0             ['weight_normalization_24[0][0]',       \n",
      "                                                                                 'tf.__operators__.add_10[0][0]']       \n",
      "                                                                                                                        \n",
      " weight_normalization_25 (WeightNormal  (None, None, None, 9, 32)  27713        ['tf.__operators__.add_11[0][0]']       \n",
      " ization)                                                                                                               \n",
      "                                                                                                                        \n",
      " tf.__operators__.add_12 (TFOpLambda)  (None, None, None, 9, 32)  0             ['weight_normalization_25[0][0]',       \n",
      "                                                                                 'weight_normalization[0][0]']          \n",
      "                                                                                                                        \n",
      " lambda_3 (Lambda)                     (None, None, None, 9, 32)  0             ['tf.__operators__.add_12[0][0]']       \n",
      "                                                                                                                        \n",
      " weight_normalization_26 (WeightNormal  (None, None, None, 9, 32)  27713        ['lambda_3[0][0]']                      \n",
      " ization)                                                                                                               \n",
      "                                                                                                                        \n",
      " re_lu_12 (ReLU)                       (None, None, None, 9, 32)  0             ['weight_normalization_26[0][0]']       \n",
      "                                                                                                                        \n",
      " lambda_6 (Lambda)                     (None, None, None, 9)      0             ['lambda[0][0]']                        \n",
      "                                                                                                                        \n",
      " weight_normalization_27 (WeightNormal  (None, None, None, 9, 32)  27713        ['re_lu_12[0][0]']                      \n",
      " ization)                                                                                                               \n",
      "                                                                                                                        \n",
      " weight_normalization_30 (WeightNormal  (None, None, None, 9)     748           ['lambda_6[0][0]']                      \n",
      " ization)                                                                                                               \n",
      "                                                                                                                        \n",
      " tf.__operators__.add_13 (TFOpLambda)  (None, None, None, 9, 32)  0             ['weight_normalization_27[0][0]',       \n",
      "                                                                                 'lambda_3[0][0]']                      \n",
      "                                                                                                                        \n",
      " re_lu_13 (ReLU)                       (None, None, None, 9)      0             ['weight_normalization_30[0][0]']       \n",
      "                                                                                                                        \n",
      " weight_normalization_28 (WeightNormal  (None, None, None, 7, 32)  27713        ['tf.__operators__.add_13[0][0]']       \n",
      " ization)                                                                                                               \n",
      "                                                                                                                        \n",
      " weight_normalization_31 (WeightNormal  (None, None, None, 9)     748           ['re_lu_13[0][0]']                      \n",
      " ization)                                                                                                               \n",
      "                                                                                                                        \n",
      " weight_normalization_29 (WeightNormal  (None, None, None, 5, 9)  7795          ['weight_normalization_28[0][0]']       \n",
      " ization)                                                                                                               \n",
      "                                                                                                                        \n",
      " tf.__operators__.add_14 (TFOpLambda)  (None, None, None, 9)      0             ['weight_normalization_31[0][0]',       \n",
      "                                                                                 'lambda_6[0][0]']                      \n",
      "                                                                                                                        \n",
      " lambda_4 (Lambda)                     (None, None, None, 9)      0             ['weight_normalization_29[0][0]']       \n",
      "                                                                                                                        \n",
      " weight_normalization_32 (WeightNormal  (None, None, None, 9)     748           ['tf.__operators__.add_14[0][0]']       \n",
      " ization)                                                                                                               \n",
      "                                                                                                                        \n",
      " lambda_5 (Lambda)                     (None, None, None, 1)      0             ['lambda_4[0][0]']                      \n",
      "                                                                                                                        \n",
      " lambda_7 (Lambda)                     (None, None, None, 1)      0             ['weight_normalization_32[0][0]']       \n",
      "                                                                                                                        \n",
      " tf.__operators__.add_15 (TFOpLambda)  (None, None, None, 1)      0             ['lambda_5[0][0]',                      \n",
      "                                                                                 'lambda_7[0][0]']                      \n",
      "                                                                                                                        \n",
      " lambda_8 (Lambda)                     (None, None, None, 1)      0             ['tf.__operators__.add_15[0][0]']       \n",
      "                                                                                                                        \n",
      "========================================================================================================================\n",
      "Total params: 786,932\n",
      "Trainable params: 786,899\n",
      "Non-trainable params: 33\n",
      "________________________________________________________________________________________________________________________\n"
     ]
    }
   ],
   "source": [
    "# print architecture structure\n",
    "Super3D_network.summary(line_length=120)"
   ]
  },
  {
   "cell_type": "markdown",
   "metadata": {},
   "source": [
    "<a id=\"train\"></a>\n",
    "# 4.0 Train the network"
   ]
  },
  {
   "cell_type": "code",
   "execution_count": 19,
   "metadata": {},
   "outputs": [],
   "source": [
    "trainer_Super3D = Trainer(Super3D_network, band, HR_SIZE, name_net,\n",
    "                      loss=l1_loss,\n",
    "                      metric=psnr,\n",
    "                      optimizer=tf.keras.optimizers.Nadam(learning_rate=lr),\n",
    "                      checkpoint_dir=os.path.join(checkpoint_dir),\n",
    "                      log_dir=log_dir)"
   ]
  },
  {
   "cell_type": "code",
   "execution_count": 20,
   "metadata": {},
   "outputs": [
    {
     "name": "stdout",
     "output_type": "stream",
     "text": [
      "\n",
      "Epoch 1/5\n"
     ]
    },
    {
     "name": "stderr",
     "output_type": "stream",
     "text": [
      "2024-12-15 18:59:02.246615: W tensorflow/core/platform/profile_utils/cpu_utils.cc:128] Failed to get CPU frequency: 0 Hz\n"
     ]
    },
    {
     "name": "stdout",
     "output_type": "stream",
     "text": [
      "4950/4900 [==============================] - 1620s 327ms/step - Loss: 686.4639 - PSNR: 37.7134 - Val Loss: 0.0000e+00 - Val PSNR: 0.0000e+00\n",
      "\n",
      "Epoch 2/5\n",
      "4950/4900 [==============================] - 1603s 324ms/step - Loss: 599.3494 - PSNR: 38.9981 - Val Loss: 0.0000e+00 - Val PSNR: 0.0000e+00\n",
      "\n",
      "Epoch 3/5\n",
      "4950/4900 [==============================] - 1606s 324ms/step - Loss: 525.5253 - PSNR: 40.1361 - Val Loss: 0.0000e+00 - Val PSNR: 0.0000e+00\n",
      "\n",
      "Epoch 4/5\n",
      "4950/4900 [==============================] - 1603s 324ms/step - Loss: 460.1693 - PSNR: 41.2506 - Val Loss: 0.0000e+00 - Val PSNR: 0.0000e+00\n",
      "\n",
      "Epoch 5/5\n",
      "4950/4900 [==============================] - 1598s 323ms/step - Loss: 458.9880 - PSNR: 41.2183 - Val Loss: 0.0000e+00 - Val PSNR: 0.0000e+00\n"
     ]
    }
   ],
   "source": [
    "trainer_Super3D.fit(X_train_patches,\n",
    "                [y_train_patches.astype('float32'), y_train_mask_patches], initial_epoch = 0,\n",
    "                batch_size=150, evaluate_every=400, data_aug = True, epochs=5,\n",
    "                validation_data=(X_val_patches, [y_val_patches.astype('float32'), y_val_mask_patches])) "
   ]
  },
  {
   "cell_type": "code",
   "execution_count": null,
   "metadata": {},
   "outputs": [],
   "source": []
  },
  {
   "cell_type": "code",
   "execution_count": null,
   "metadata": {},
   "outputs": [],
   "source": []
  }
 ],
 "metadata": {
  "kernelspec": {
   "display_name": "Python 3",
   "language": "python",
   "name": "python3"
  },
  "language_info": {
   "codemirror_mode": {
    "name": "ipython",
    "version": 3
   },
   "file_extension": ".py",
   "mimetype": "text/x-python",
   "name": "python",
   "nbconvert_exporter": "python",
   "pygments_lexer": "ipython3",
   "version": "3.9.6"
  },
  "toc": {
   "base_numbering": 1,
   "nav_menu": {},
   "number_sections": false,
   "sideBar": true,
   "skip_h1_title": false,
   "title_cell": "Table of Contents",
   "title_sidebar": "Contents",
   "toc_cell": false,
   "toc_position": {},
   "toc_section_display": true,
   "toc_window_display": true
  },
  "varInspector": {
   "cols": {
    "lenName": 16,
    "lenType": 16,
    "lenVar": 40
   },
   "kernels_config": {
    "python": {
     "delete_cmd_postfix": "",
     "delete_cmd_prefix": "del ",
     "library": "var_list.py",
     "varRefreshCmd": "print(var_dic_list())"
    },
    "r": {
     "delete_cmd_postfix": ") ",
     "delete_cmd_prefix": "rm(",
     "library": "var_list.r",
     "varRefreshCmd": "cat(var_dic_list()) "
    }
   },
   "types_to_exclude": [
    "module",
    "function",
    "builtin_function_or_method",
    "instance",
    "_Feature"
   ],
   "window_display": false
  }
 },
 "nbformat": 4,
 "nbformat_minor": 4
}
